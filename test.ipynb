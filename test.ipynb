{
 "cells": [
  {
   "cell_type": "markdown",
   "metadata": {},
   "source": [
    "# Cargamos y preprocesamos los datos\n",
    "\n",
    "Particularmente en este caso, creo que la mejor opción frente a los registros con valores nulos es la de eliminarlos, esto debido a que están en características con valores categóricos y discretos, por lo que otros métodos como reemplazar estos registros con valores medios, o con algún valor numérico (como por ejemplo 0) tendría como resultado una posible inconsistencia en los datos."
   ]
  },
  {
   "cell_type": "code",
   "execution_count": 276,
   "metadata": {},
   "outputs": [
    {
     "name": "stdout",
     "output_type": "stream",
     "text": [
      "<class 'pandas.core.frame.DataFrame'>\n",
      "RangeIndex: 4510 entries, 0 to 4509\n",
      "Data columns (total 8 columns):\n",
      " #   Column                 Non-Null Count  Dtype  \n",
      "---  ------                 --------------  -----  \n",
      " 0   id_retiro              4510 non-null   int64  \n",
      " 1   fecha_retiro           4510 non-null   object \n",
      " 2   comuna                 4357 non-null   object \n",
      " 3   ruta                   4256 non-null   float64\n",
      " 4   inicio_ventana_retiro  4510 non-null   object \n",
      " 5   fin_ventana_retiro     4510 non-null   object \n",
      " 6   fecha_hora_courier     4408 non-null   object \n",
      " 7   ultimo_evento_courier  4510 non-null   object \n",
      "dtypes: float64(1), int64(1), object(6)\n",
      "memory usage: 282.0+ KB\n"
     ]
    },
    {
     "data": {
      "text/plain": [
       "None"
      ]
     },
     "metadata": {},
     "output_type": "display_data"
    },
    {
     "name": "stdout",
     "output_type": "stream",
     "text": [
      "\n",
      "Catastro de valores nulos: \n",
      "id_retiro                  0\n",
      "fecha_retiro               0\n",
      "comuna                   153\n",
      "ruta                     254\n",
      "inicio_ventana_retiro      0\n",
      "fin_ventana_retiro         0\n",
      "fecha_hora_courier       102\n",
      "ultimo_evento_courier      0\n",
      "dtype: int64\n"
     ]
    }
   ],
   "source": [
    "import pandas as pd\n",
    "import numpy as np\n",
    "\n",
    "archivo = \"Test práctica.xlsx\"\n",
    "df = pd.read_excel(archivo, sheet_name=0, engine='openpyxl')\n",
    "\n",
    "# Primera visualización de los datos\n",
    "display(df.info())\n",
    "print(f'\\nCatastro de valores nulos: \\n{df.isna().sum()}')"
   ]
  },
  {
   "cell_type": "code",
   "execution_count": 277,
   "metadata": {},
   "outputs": [],
   "source": [
    "df = df.dropna()"
   ]
  },
  {
   "cell_type": "markdown",
   "metadata": {},
   "source": [
    "### Pregunta 1\n",
    "Cuantos retiros tienen hora de retiro después de las 13:00?"
   ]
  },
  {
   "cell_type": "markdown",
   "metadata": {},
   "source": [
    "Para esta pregunta, fue necesario formatear la columna 'fecha_hora_courier' para utilizar herramientas de pandas, en este caso, como nos interesa solamente la hora y no los minutos ni los segundos, y viendo que los datos están en formato 24hrs, utilizamos dt.hour para extraer la hora y con esto, seleccionamos los registros que tienen una hora de retiro posterior o igual a las 13:00 hrs"
   ]
  },
  {
   "cell_type": "code",
   "execution_count": 278,
   "metadata": {},
   "outputs": [
    {
     "name": "stdout",
     "output_type": "stream",
     "text": [
      "Hay 3403 retiros de un total de 4207 que tienen hora de retiro después de las 13:00\n"
     ]
    }
   ],
   "source": [
    "df['fecha_hora_courier'] = pd.to_datetime(df['fecha_hora_courier'])\n",
    "\n",
    "retiros_horario_pm = df[df['fecha_hora_courier'].dt.hour >= 13]\n",
    "\n",
    "print(f'Hay {len(retiros_horario_pm)} retiros de un total de {len(df)} que tienen hora de retiro después de las 13:00')"
   ]
  },
  {
   "cell_type": "markdown",
   "metadata": {},
   "source": [
    "### Pregunta 2\n",
    "Cuál es el % de retiro exitoso y de no retirado del total de casos?\n"
   ]
  },
  {
   "cell_type": "markdown",
   "metadata": {},
   "source": [
    "En esta pregunta, nos bastó con realizar un groupby de la columna 'ultimo_evento_courier' pero con la precaución de que los datos existentes en esta columna tengan únicamente los valores ['Retiro Exitoso' y 'No Retirado'], una vez teniendo estos datos, podemos sacar la proporción del total, también realizamos un gráfico de torta simple para una mejor visualización de los datos"
   ]
  },
  {
   "cell_type": "code",
   "execution_count": 279,
   "metadata": {},
   "outputs": [
    {
     "name": "stdout",
     "output_type": "stream",
     "text": [
      "Existen 2 clases posibles, estas son: ['Retiro Exitoso' 'No Retirado']\n",
      "La distribución de datos es la siguiente: \n",
      "ultimo_evento_courier\n",
      "No Retirado        899\n",
      "Retiro Exitoso    3308\n",
      "dtype: int64\n",
      "El % de registros que tuvieron un retiro exitoso del total es: 78.60000000000001%\n",
      "El % de registros que tuvieron un retiro NO exitoso del total es: 21.4%\n"
     ]
    },
    {
     "data": {
      "image/png": "[encoded data removed]",
      "text/plain": [
       "<Figure size 300x300 with 1 Axes>"
      ]
     },
     "metadata": {},
     "output_type": "display_data"
    }
   ],
   "source": [
    "import matplotlib.pyplot as plt\n",
    "\n",
    "# Primero aseguramos la integridad y consistencia de los datos\n",
    "print(f\"Existen {len(df['ultimo_evento_courier'].unique())} clases posibles, estas son: {df['ultimo_evento_courier'].unique()}\")\n",
    "\n",
    "conteo = df.groupby(\"ultimo_evento_courier\").size()\n",
    "\n",
    "print(f\"La distribución de datos es la siguiente: \\n{conteo}\")\n",
    "\n",
    "# Definimos las variables para un mejor entendimiento\n",
    "retiros_e = conteo['Retiro Exitoso']\n",
    "retiros_n = conteo['No Retirado']\n",
    "total = conteo.sum()\n",
    "\n",
    "# Mostramos los resultados\n",
    "print(f\"El % de registros que tuvieron un retiro exitoso del total es: {np.around(retiros_e/total, 3)*100}%\")\n",
    "print(f\"El % de registros que tuvieron un retiro NO exitoso del total es: {np.around(retiros_n/total, 3)*100}%\")\n",
    "\n",
    "plt.figure(figsize=(3, 3))\n",
    "plt.pie([(retiros_e/total)*100, (retiros_n/total)*100], labels=['Retiros Exitosos', 'No Retirados'], startangle=60)\n",
    "plt.title('Distribución de retiros exitosos y no exitosos')\n",
    "plt.axis('equal')\n",
    "\n",
    "plt.show()\n"
   ]
  },
  {
   "cell_type": "markdown",
   "metadata": {},
   "source": [
    "### Pregunta 3\n",
    "Cuántas rutas hay por comuna?\n"
   ]
  },
  {
   "cell_type": "markdown",
   "metadata": {},
   "source": [
    "Para realizar esta pregunta, nuevamente realizamos un groupby de las columna 'ruta' según las comunas existentes en la columna 'comuna', esta forma permite una mejor lectura y un menor coste computacional que otras opciones, además, ordenamos la información por la cantidad de rutas por comuna de forma descendente para ver cuales comunas tienen una mayor concentración de rutas, lo que nos podría indicar aquellas que tienen un desarrollo prioritario en términos de logística."
   ]
  },
  {
   "cell_type": "code",
   "execution_count": 280,
   "metadata": {},
   "outputs": [
    {
     "data": {
      "text/html": [
       "<div>\n",
       "<style scoped>\n",
       "    .dataframe tbody tr th:only-of-type {\n",
       "        vertical-align: middle;\n",
       "    }\n",
       "\n",
       "    .dataframe tbody tr th {\n",
       "        vertical-align: top;\n",
       "    }\n",
       "\n",
       "    .dataframe thead th {\n",
       "        text-align: right;\n",
       "    }\n",
       "</style>\n",
       "<table border=\"1\" class=\"dataframe\">\n",
       "  <thead>\n",
       "    <tr style=\"text-align: right;\">\n",
       "      <th></th>\n",
       "      <th>comuna</th>\n",
       "      <th>cantidad_rutas</th>\n",
       "    </tr>\n",
       "  </thead>\n",
       "  <tbody>\n",
       "    <tr>\n",
       "      <th>0</th>\n",
       "      <td>PUDAHUEL</td>\n",
       "      <td>249</td>\n",
       "    </tr>\n",
       "    <tr>\n",
       "      <th>1</th>\n",
       "      <td>SANTIAGO</td>\n",
       "      <td>240</td>\n",
       "    </tr>\n",
       "    <tr>\n",
       "      <th>2</th>\n",
       "      <td>LAS CONDES</td>\n",
       "      <td>170</td>\n",
       "    </tr>\n",
       "    <tr>\n",
       "      <th>3</th>\n",
       "      <td>PROVIDENCIA</td>\n",
       "      <td>167</td>\n",
       "    </tr>\n",
       "    <tr>\n",
       "      <th>4</th>\n",
       "      <td>QUILICURA</td>\n",
       "      <td>164</td>\n",
       "    </tr>\n",
       "    <tr>\n",
       "      <th>...</th>\n",
       "      <td>...</td>\n",
       "      <td>...</td>\n",
       "    </tr>\n",
       "    <tr>\n",
       "      <th>277</th>\n",
       "      <td>RENAICO</td>\n",
       "      <td>1</td>\n",
       "    </tr>\n",
       "    <tr>\n",
       "      <th>278</th>\n",
       "      <td>QUIRIHUE</td>\n",
       "      <td>1</td>\n",
       "    </tr>\n",
       "    <tr>\n",
       "      <th>279</th>\n",
       "      <td>NEGRETE</td>\n",
       "      <td>1</td>\n",
       "    </tr>\n",
       "    <tr>\n",
       "      <th>280</th>\n",
       "      <td>QUINTA DE TILCOCO</td>\n",
       "      <td>1</td>\n",
       "    </tr>\n",
       "    <tr>\n",
       "      <th>281</th>\n",
       "      <td>LONQUIMAY</td>\n",
       "      <td>1</td>\n",
       "    </tr>\n",
       "  </tbody>\n",
       "</table>\n",
       "<p>282 rows × 2 columns</p>\n",
       "</div>"
      ],
      "text/plain": [
       "                comuna  cantidad_rutas\n",
       "0             PUDAHUEL             249\n",
       "1             SANTIAGO             240\n",
       "2           LAS CONDES             170\n",
       "3          PROVIDENCIA             167\n",
       "4            QUILICURA             164\n",
       "..                 ...             ...\n",
       "277            RENAICO               1\n",
       "278           QUIRIHUE               1\n",
       "279            NEGRETE               1\n",
       "280  QUINTA DE TILCOCO               1\n",
       "281          LONQUIMAY               1\n",
       "\n",
       "[282 rows x 2 columns]"
      ]
     },
     "metadata": {},
     "output_type": "display_data"
    }
   ],
   "source": [
    "rutas_totales = df[df['ruta'].notna()].groupby(\"comuna\").size().reset_index(name=\"cantidad_rutas\")\n",
    "display(rutas_totales.sort_values(by='cantidad_rutas', ascending=False).reset_index(drop=True))\n"
   ]
  },
  {
   "cell_type": "markdown",
   "metadata": {},
   "source": [
    "### Pregunta 4\n",
    "Cuántos retiros exitosos fueron realizados dentro de la ventana horaria?"
   ]
  },
  {
   "cell_type": "markdown",
   "metadata": {},
   "source": [
    "En este caso, primero separamos un extracto conveniente del dataframe original, el cual posee los registros que únicamente fueron retiros exitosos, este paso aunque se podría simplificar, mejora la lectura del código, posteriormente, a este extracto lo volvemos a filtrar en base al horario de inicio de ventana de retiro, al horario de fin de ventana de retiro y a la fecha y específicamente hora registrada del courier, filtramos de modo que solo se muestren los datos que cumplen con que la entrega fue realizada dentro de la ventana horaria y luego mostramos los resultados, para finalizar, nuevamente opté por incluir un gráfico de torta para una mejor visualización, comprensión y análisis de los datos."
   ]
  },
  {
   "cell_type": "code",
   "execution_count": 281,
   "metadata": {},
   "outputs": [
    {
     "name": "stdout",
     "output_type": "stream",
     "text": [
      "Hubieron 2699 retiros exitosos dentro de la ventana horaria de un total de 3308 retiros exitosos\n"
     ]
    },
    {
     "data": {
      "image/png": "[encoded data removed]",
      "text/plain": [
       "<Figure size 300x300 with 1 Axes>"
      ]
     },
     "metadata": {},
     "output_type": "display_data"
    }
   ],
   "source": [
    "retiros_e = df[df['ultimo_evento_courier']=='Retiro Exitoso']\n",
    "\n",
    "retiros_exitosos_dentro_ventana = retiros_e[\n",
    "    (retiros_e['fecha_hora_courier']>=retiros_e['inicio_ventana_retiro']) &\n",
    "    (retiros_e['fecha_hora_courier']<=retiros_e['fin_ventana_retiro'])]\n",
    "\n",
    "print(f\"Hubieron {len(retiros_exitosos_dentro_ventana)} retiros exitosos dentro de la ventana horaria de un total de {len(retiros_e)} retiros exitosos\")\n",
    "\n",
    "proporcion_retiros_en_ventana = np.around((len(retiros_exitosos_dentro_ventana)/len(retiros_e))*100, 2)\n",
    "proporcion_retiros_fuera_ventana = np.around(((len(retiros_e)-len(retiros_exitosos_dentro_ventana))/len(retiros_e))*100, 2)\n",
    "\n",
    "plt.figure(figsize=(3,3))\n",
    "plt.pie([proporcion_retiros_en_ventana, proporcion_retiros_fuera_ventana], labels=[f'Retiros exitosos en ventana ({proporcion_retiros_en_ventana}%)', f'Retiros exitosos fuera de ventana ({proporcion_retiros_fuera_ventana}%)'], startangle=60)\n",
    "plt.title('Distribución retiros exitosos')\n",
    "plt.axis('equal')\n",
    "\n",
    "plt.show()"
   ]
  }
 ],
 "metadata": {
  "kernelspec": {
   "display_name": "Python 3",
   "language": "python",
   "name": "python3"
  },
  "language_info": {
   "codemirror_mode": {
    "name": "ipython",
    "version": 3
   },
   "file_extension": ".py",
   "mimetype": "text/x-python",
   "name": "python",
   "nbconvert_exporter": "python",
   "pygments_lexer": "ipython3",
   "version": "3.11.9"
  }
 },
 "nbformat": 4,
 "nbformat_minor": 2
}
